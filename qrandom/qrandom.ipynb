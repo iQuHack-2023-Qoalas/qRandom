{
 "cells": [
  {
   "cell_type": "code",
   "execution_count": null,
   "metadata": {},
   "outputs": [],
   "source": [
    "%pip install covalent"
   ]
  },
  {
   "cell_type": "code",
   "execution_count": 1,
   "metadata": {},
   "outputs": [
    {
     "ename": "ModuleNotFoundError",
     "evalue": "No module named 'covalent'",
     "output_type": "error",
     "traceback": [
      "\u001b[0;31m---------------------------------------------------------------------------\u001b[0m",
      "\u001b[0;31mModuleNotFoundError\u001b[0m                       Traceback (most recent call last)",
      "\u001b[1;32m/Users/a.summer/Development_local/iQuHack/iQuHack2023/qoalas/qrandom/qrandom.ipynb Cell 2\u001b[0m in \u001b[0;36m<cell line: 1>\u001b[0;34m()\u001b[0m\n\u001b[0;32m----> <a href='vscode-notebook-cell:/Users/a.summer/Development_local/iQuHack/iQuHack2023/qoalas/qrandom/qrandom.ipynb#X44sZmlsZQ%3D%3D?line=0'>1</a>\u001b[0m \u001b[39mimport\u001b[39;00m \u001b[39mcovalent\u001b[39;00m \u001b[39mas\u001b[39;00m \u001b[39mcv\u001b[39;00m\n",
      "\u001b[0;31mModuleNotFoundError\u001b[0m: No module named 'covalent'"
     ]
    }
   ],
   "source": [
    "import covalent as cv"
   ]
  },
  {
   "cell_type": "code",
   "execution_count": null,
   "metadata": {},
   "outputs": [],
   "source": [
    "\"\"\"\n",
    "This module utilizes quantum computers \n",
    "to produce truly random numbers\n",
    "\"\"\"\n",
    "############################################################################### IBMQ:\n",
    "from qiskit import IBMQ, QuantumCircuit, transpile, execute\n",
    "from qiskit.providers.ibmq.ibmqbackend import IBMQSimulator\n",
    "from qiskit import IBMQ, Aer\n",
    "import matplotlib.pyplot as plt\n",
    "from qiskit.tools.monitor import job_monitor"
   ]
  },
  {
   "cell_type": "code",
   "execution_count": null,
   "metadata": {},
   "outputs": [],
   "source": [
    "# IBMQ.save_account(TOKEN)\n",
    "IBMQ.load_account() # Load account from disk\n",
    "IBM_provider = IBMQ.get_provider(hub='ibm-q')\n",
    "ibm_nairobi = IBM_provider.backends('ibm_nairobi')[0]\n",
    "ibm_sim_online = IBM_provider.backends('ibmq_qasm_simulator')[0]\n",
    "ibm_sim_local = Aer.get_backend('qasm_simulator')"
   ]
  },
  {
   "cell_type": "code",
   "execution_count": null,
   "metadata": {},
   "outputs": [],
   "source": [
    "from generators import NormalDistribution,UniformDistribution,LogNormalDistribution,PorterThomasDistribution"
   ]
  },
  {
   "cell_type": "code",
   "execution_count": null,
   "metadata": {},
   "outputs": [],
   "source": [
    "def ibm_queue(backend):\n",
    "    while backend.job_limit().maximum_jobs - backend.job_limit().active_jobs <= 0:\n",
    "        pass\n",
    "    return\n",
    "\n",
    "def uniform(L=7, backend=ibm_simulator):\n",
    "    q = QuantumCircuit(L)\n",
    "    q.h(range(L))\n",
    "    q.measure_all()\n",
    "    dictio = execute(q, backend, shots=1).result().get_counts()\n",
    "    return int(list(dictio.keys())[0], 2)\n",
    "\n",
    "#this function returns a random integer\n",
    "def randint():\n",
    "    pass\n",
    "\n",
    "#this function returns a random integer between x (inclusive) and y (exclusive)\n",
    "def randrange(x,y):\n",
    "    pass"
   ]
  },
  {
   "cell_type": "code",
   "execution_count": null,
   "metadata": {},
   "outputs": [],
   "source": [
    "# distribution = NormalDistribution(num_qubits = 5)\n",
    "distribution = UniformDistribution(num_qubits = 5)\n",
    "# distribution = LogNormalDistribution(num_qubits = 5)\n",
    "# distribution = PorterThomasDistribution(num_qubits = 5)"
   ]
  },
  {
   "cell_type": "code",
   "execution_count": null,
   "metadata": {},
   "outputs": [],
   "source": [
    "circuit = distribution.copy()\n",
    "circuit.measure_all()\n",
    "\n",
    "job = execute(circuit, ibm_sim_local, shots=1000)\n",
    "job_monitor(job)\n",
    "counts = job.result().get_counts()\n",
    "\n",
    "sortedcounts = []\n",
    "sortedkeys = sorted(counts)\n",
    "for i in sortedkeys:\n",
    "    for j in counts:\n",
    "        if(i == j):\n",
    "            sortedcounts.append(counts.get(j))\n",
    "\n",
    "plt.suptitle('Distribution '+str(circuit.name))\n",
    "plt.plot(sortedcounts)\n",
    "plt.show()"
   ]
  },
  {
   "cell_type": "code",
   "execution_count": null,
   "metadata": {},
   "outputs": [],
   "source": []
  },
  {
   "cell_type": "code",
   "execution_count": null,
   "metadata": {},
   "outputs": [],
   "source": []
  },
  {
   "cell_type": "code",
   "execution_count": null,
   "metadata": {},
   "outputs": [],
   "source": []
  },
  {
   "cell_type": "code",
   "execution_count": null,
   "metadata": {},
   "outputs": [],
   "source": []
  }
 ],
 "metadata": {
  "kernelspec": {
   "display_name": "env-ale",
   "language": "python",
   "name": "python3"
  },
  "language_info": {
   "codemirror_mode": {
    "name": "ipython",
    "version": 3
   },
   "file_extension": ".py",
   "mimetype": "text/x-python",
   "name": "python",
   "nbconvert_exporter": "python",
   "pygments_lexer": "ipython3",
   "version": "3.9.12"
  },
  "orig_nbformat": 4,
  "vscode": {
   "interpreter": {
    "hash": "afc824eee69d660f74c28f28d0b5ad7610e20914fc58c761da7b58a16a145b11"
   }
  }
 },
 "nbformat": 4,
 "nbformat_minor": 2
}
